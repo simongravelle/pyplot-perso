{
 "cells": [
  {
   "cell_type": "code",
   "execution_count": null,
   "id": "961dc0a5",
   "metadata": {},
   "outputs": [],
   "source": [
    "import sys, os, git\n",
    "import numpy as np\n",
    "from matplotlib import pyplot as plt"
   ]
  },
  {
   "cell_type": "code",
   "execution_count": null,
   "id": "a1028c0e",
   "metadata": {},
   "outputs": [],
   "source": [
    "current_path = os.getcwd()\n",
    "git_repo = git.Repo(current_path, search_parent_directories=True)\n",
    "git_path = git_repo.git.rev_parse(\"--show-toplevel\")\n",
    "sys.path.append(git_path)\n",
    "from color_series1 import colors\n",
    "from functions import complete_panel, save_figure, set_boundaries, add_subplotlabels, set_boundaries\n",
    "path_figures = \"/examples/\""
   ]
  },
  {
   "cell_type": "code",
   "execution_count": null,
   "id": "bfd8e3b2",
   "metadata": {},
   "outputs": [],
   "source": [
    "def random_linear_generator(xmin=0, xmax=10, slope=0.3, alpha=0.1, pref = 1):\n",
    "    x = np.linspace(xmin, xmax)\n",
    "    y = slope*x + pref * (np.random.random(len(x))-0.5)*x**alpha\n",
    "    return x, y"
   ]
  },
  {
   "cell_type": "code",
   "execution_count": null,
   "id": "a3b2a967",
   "metadata": {},
   "outputs": [],
   "source": [
    "filename = \"example-1\"\n",
    "for mode, mygray in zip(['light', 'dark'], [colors[\"mylightgray\"], colors[\"mydarkgray\"]]):    \n",
    "    fig = plt.figure(figsize=(18,6))\n",
    "    ax, n, l_tot, c_tot = [], 0, 1, 1\n",
    "    n += 1\n",
    "    ax.append(plt.subplot(l_tot, c_tot, n))\n",
    "    x, y = random_linear_generator(slope = 0.3, alpha = 0.1)\n",
    "    ax[-1].plot(x, y, 'o', color=colors[\"mycyan\"],\n",
    "                markersize = 12, linewidth=4, label=r'series $\\alpha$')\n",
    "    x, y = random_linear_generator(slope = 0.4, alpha = 0.2)\n",
    "    ax[-1].plot(x, y, 's', color=colors[\"myorange\"],\n",
    "                markersize = 12, linewidth=4, label=r'series $\\beta$')\n",
    "    x, y = random_linear_generator(slope = 0.4, alpha = 0.2)\n",
    "    ax[-1].plot(x, y, 'p', color=colors[\"mydarkblue\"],\n",
    "                markersize = 12, linewidth=4, label=r'series $\\gamma$')\n",
    "    complete_panel(ax[-1], r'$x_i$ (ps)', r'$\\gamma$ (ms$^{-1}$)', legend=True, axis_color=mygray, xpad=15)\n",
    "    set_boundaries(plt, x_boundaries=(-0.5, 10.5), y_boundaries=(-1.5, 6.5),\n",
    "                   x_ticks=np.arange(0, 11, 1), y_ticks=np.arange(-1, 7, 1)) \n",
    "    add_subplotlabels(fig, ax, [\"a\"], color=mygray)\n",
    "    save_figure(plt, fig, mode, git_path, path_figures, filename, trans = False)"
   ]
  }
 ],
 "metadata": {
  "kernelspec": {
   "display_name": "Python 3 (ipykernel)",
   "language": "python",
   "name": "python3"
  },
  "language_info": {
   "codemirror_mode": {
    "name": "ipython",
    "version": 3
   },
   "file_extension": ".py",
   "mimetype": "text/x-python",
   "name": "python",
   "nbconvert_exporter": "python",
   "pygments_lexer": "ipython3",
   "version": "3.11.4"
  }
 },
 "nbformat": 4,
 "nbformat_minor": 5
}
